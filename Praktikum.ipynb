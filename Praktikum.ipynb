{
  "nbformat": 4,
  "nbformat_minor": 0,
  "metadata": {
    "colab": {
      "provenance": [],
      "authorship_tag": "ABX9TyMsz2tJzT40bMz0Ho6Sw9G/",
      "include_colab_link": true
    },
    "kernelspec": {
      "name": "python3",
      "display_name": "Python 3"
    },
    "language_info": {
      "name": "python"
    }
  },
  "cells": [
    {
      "cell_type": "markdown",
      "metadata": {
        "id": "view-in-github",
        "colab_type": "text"
      },
      "source": [
        "<a href=\"https://colab.research.google.com/github/zaki43325010/Tugas-AlPro-7/blob/main/Praktikum.ipynb\" target=\"_parent\"><img src=\"https://colab.research.google.com/assets/colab-badge.svg\" alt=\"Open In Colab\"/></a>"
      ]
    },
    {
      "cell_type": "markdown",
      "source": [
        "#Praktikum 01 – Tuple: Data Tetap yang Tidak Bisa Diubah"
      ],
      "metadata": {
        "id": "o8h3jrnPkitL"
      }
    },
    {
      "cell_type": "code",
      "execution_count": 1,
      "metadata": {
        "colab": {
          "base_uri": "https://localhost:8080/"
        },
        "id": "REBoYq-ekgdg",
        "outputId": "673d46ce-7c3d-4f89-859f-2af153f9e689"
      },
      "outputs": [
        {
          "output_type": "stream",
          "name": "stdout",
          "text": [
            "Lintang:  7.05\n",
            "Bujur:  110.04\n"
          ]
        }
      ],
      "source": [
        "koordinat=(7.05,110.04)\n",
        "print(\"Lintang: \", koordinat[0])\n",
        "print(\"Bujur: \", koordinat[1])"
      ]
    },
    {
      "cell_type": "markdown",
      "source": [
        "#Praktikum 02 – Dictionary Dasar: Menyimpan Data Mahasiswa"
      ],
      "metadata": {
        "id": "VV0aE0EVne7c"
      }
    },
    {
      "cell_type": "code",
      "source": [
        "mahasiswa={\n",
        "    \"NIM\": \"20251001\",\n",
        "    \"Nama\": \"Andi\",\n",
        "    \"Prodi\": \"TRK\"\n",
        "}\n",
        "print(\"NIM: \", mahasiswa[\"NIM\"])\n",
        "print(\"Nama: \", mahasiswa[\"Nama\"])\n",
        "print(\"Prodi: \", mahasiswa[\"Prodi\"])"
      ],
      "metadata": {
        "colab": {
          "base_uri": "https://localhost:8080/"
        },
        "id": "Mqf3xWWcniWK",
        "outputId": "35b72605-11d6-4bfc-cc51-0ca369945ed2"
      },
      "execution_count": 6,
      "outputs": [
        {
          "output_type": "stream",
          "name": "stdout",
          "text": [
            "NIM:  20251001\n",
            "Nama:  Andi\n",
            "Prodi:  TRK\n"
          ]
        }
      ]
    },
    {
      "cell_type": "markdown",
      "source": [
        "#Praktikum 03 – Operasi pada Dictionary"
      ],
      "metadata": {
        "id": "A0JbLuLpol1K"
      }
    },
    {
      "cell_type": "code",
      "source": [
        "mahasiswa={\n",
        "    \"NIM\": \"20251001\",\n",
        "    \"Nama\": \"Andi\",\n",
        "    \"Prodi\": \"TRK\"\n",
        "}\n",
        "mahasiswa[\"Umur\"]=20\n",
        "mahasiswa[\"Prodi\"]=\"Teknik Komputer\"\n",
        "del mahasiswa[\"Umur\"]\n",
        "print(mahasiswa)"
      ],
      "metadata": {
        "colab": {
          "base_uri": "https://localhost:8080/"
        },
        "id": "Nt_yI5uUooxX",
        "outputId": "d627ec00-c043-4f6e-bc86-167185183b88"
      },
      "execution_count": 7,
      "outputs": [
        {
          "output_type": "stream",
          "name": "stdout",
          "text": [
            "{'NIM': '20251001', 'Nama': 'Andi', 'Prodi': 'Teknik Komputer'}\n"
          ]
        }
      ]
    },
    {
      "cell_type": "markdown",
      "source": [
        "#Praktikum 04 – Set dan Operasi Himpunan"
      ],
      "metadata": {
        "id": "-KVxTA6NpeSp"
      }
    },
    {
      "cell_type": "code",
      "source": [
        "A={1,2,3,4,}\n",
        "B={3,4,5,6}\n",
        "print(\"Union: \", A|B)\n",
        "print(\"Intersection: \", A&B)\n",
        "print(\"Difference: \", A-B)"
      ],
      "metadata": {
        "colab": {
          "base_uri": "https://localhost:8080/"
        },
        "id": "pD1qa0TapfsU",
        "outputId": "7f259968-610c-496a-deac-2c6190959ba1"
      },
      "execution_count": 8,
      "outputs": [
        {
          "output_type": "stream",
          "name": "stdout",
          "text": [
            "Union:  {1, 2, 3, 4, 5, 6}\n",
            "Intersection:  {3, 4}\n",
            "Difference:  {1, 2}\n"
          ]
        }
      ]
    },
    {
      "cell_type": "markdown",
      "source": [
        "#Praktikum 05 – Studi Kasus: Data Mahasiswa dan Mata Kuliah"
      ],
      "metadata": {
        "id": "NVMTve48qBwJ"
      }
    },
    {
      "cell_type": "code",
      "source": [
        "mhs1={\"Algoritma\",\"Matematika\",\"Bahasa Inggris\"}\n",
        "mhs2={\"Algoritma\",\"Basis Data\",\"Matematika\"}\n",
        "print(\"Mata kuliah mhs1:\", mhs1)\n",
        "print(\"Mata kuliah mhs2:\", mhs2)\n",
        "print(\"Mata kuliah yang sama:\", mhs1&mhs2)"
      ],
      "metadata": {
        "colab": {
          "base_uri": "https://localhost:8080/"
        },
        "id": "DMLmA0DRqDHz",
        "outputId": "dd5987db-f2c3-416d-8436-8071e0725c00"
      },
      "execution_count": 9,
      "outputs": [
        {
          "output_type": "stream",
          "name": "stdout",
          "text": [
            "Mata kuliah mhs1: {'Matematika', 'Bahasa Inggris', 'Algoritma'}\n",
            "Mata kuliah mhs2: {'Basis Data', 'Matematika', 'Algoritma'}\n",
            "Mata kuliah yang sama: {'Matematika', 'Algoritma'}\n"
          ]
        }
      ]
    },
    {
      "cell_type": "markdown",
      "source": [
        "#Praktikum 06 – Studi Kasus Dictionary: Daftar Nilai Mahasiswa"
      ],
      "metadata": {
        "id": "KRq7R1OlrTRp"
      }
    },
    {
      "cell_type": "code",
      "source": [
        "nilai_mhs={\n",
        "    \"Andi\":80,\n",
        "    \"Budi\":75,\n",
        "    \"Cici\":90\n",
        "}\n",
        "for nama, nilai in nilai_mhs.items():\n",
        "  print(f\"{nama}:{nilai}\")\n",
        "rata=sum(nilai_mhs.values())/len(nilai_mhs)\n",
        "print(f\"Rata-rata nilai: {rata:.2f}\")"
      ],
      "metadata": {
        "colab": {
          "base_uri": "https://localhost:8080/"
        },
        "id": "m6keuc6TrS6I",
        "outputId": "e39f3172-d205-46d2-823b-b9f086a5b891"
      },
      "execution_count": 11,
      "outputs": [
        {
          "output_type": "stream",
          "name": "stdout",
          "text": [
            "Andi:80\n",
            "Budi:75\n",
            "Cici:90\n",
            "Rata-rata nilai: 81.67\n"
          ]
        }
      ]
    }
  ]
}