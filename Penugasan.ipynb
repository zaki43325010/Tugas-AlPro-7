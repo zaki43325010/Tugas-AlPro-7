{
  "nbformat": 4,
  "nbformat_minor": 0,
  "metadata": {
    "colab": {
      "provenance": [],
      "authorship_tag": "ABX9TyPoBJIboiX9XGbsvcgxziNk",
      "include_colab_link": true
    },
    "kernelspec": {
      "name": "python3",
      "display_name": "Python 3"
    },
    "language_info": {
      "name": "python"
    }
  },
  "cells": [
    {
      "cell_type": "markdown",
      "metadata": {
        "id": "view-in-github",
        "colab_type": "text"
      },
      "source": [
        "<a href=\"https://colab.research.google.com/github/zaki43325010/Tugas-AlPro-7/blob/main/Penugasan.ipynb\" target=\"_parent\"><img src=\"https://colab.research.google.com/assets/colab-badge.svg\" alt=\"Open In Colab\"/></a>"
      ]
    },
    {
      "cell_type": "markdown",
      "source": [
        "#1.\tTuple Sederhana"
      ],
      "metadata": {
        "id": "T8y4KXvQL9j7"
      }
    },
    {
      "cell_type": "code",
      "execution_count": 2,
      "metadata": {
        "id": "VY81_hZuLhF8",
        "colab": {
          "base_uri": "https://localhost:8080/"
        },
        "outputId": "2ac8564a-1270-4877-c7f2-525d53e26065"
      },
      "outputs": [
        {
          "output_type": "stream",
          "name": "stdout",
          "text": [
            "Nama: zaki\n",
            "Umur:  19\n",
            "Prodi:  TRK\n"
          ]
        }
      ],
      "source": [
        "data=(\"zaki\",\"19\",\"TRK\")\n",
        "print(\"Nama:\",data[0])\n",
        "print(\"Umur: \",data[1])\n",
        "print(\"Prodi: \",data[2])"
      ]
    },
    {
      "cell_type": "markdown",
      "source": [
        "#2.\tTuple Tidak Bisa Diubah"
      ],
      "metadata": {
        "id": "EQMfy884qzM-"
      }
    },
    {
      "cell_type": "code",
      "source": [
        "angka=(1,2,3)\n",
        "angka[1]=4"
      ],
      "metadata": {
        "colab": {
          "base_uri": "https://localhost:8080/",
          "height": 193
        },
        "id": "FMWvlBOBq3bF",
        "outputId": "7c04444a-3245-4455-f2a7-a0d43c037c7a"
      },
      "execution_count": 3,
      "outputs": [
        {
          "output_type": "error",
          "ename": "TypeError",
          "evalue": "'tuple' object does not support item assignment",
          "traceback": [
            "\u001b[0;31m---------------------------------------------------------------------------\u001b[0m",
            "\u001b[0;31mTypeError\u001b[0m                                 Traceback (most recent call last)",
            "\u001b[0;32m/tmp/ipython-input-2614828653.py\u001b[0m in \u001b[0;36m<cell line: 0>\u001b[0;34m()\u001b[0m\n\u001b[1;32m      1\u001b[0m \u001b[0mangka\u001b[0m\u001b[0;34m=\u001b[0m\u001b[0;34m(\u001b[0m\u001b[0;36m1\u001b[0m\u001b[0;34m,\u001b[0m\u001b[0;36m2\u001b[0m\u001b[0;34m,\u001b[0m\u001b[0;36m3\u001b[0m\u001b[0;34m)\u001b[0m\u001b[0;34m\u001b[0m\u001b[0;34m\u001b[0m\u001b[0m\n\u001b[0;32m----> 2\u001b[0;31m \u001b[0mangka\u001b[0m\u001b[0;34m[\u001b[0m\u001b[0;36m1\u001b[0m\u001b[0;34m]\u001b[0m\u001b[0;34m=\u001b[0m\u001b[0;36m4\u001b[0m\u001b[0;34m\u001b[0m\u001b[0;34m\u001b[0m\u001b[0m\n\u001b[0m",
            "\u001b[0;31mTypeError\u001b[0m: 'tuple' object does not support item assignment"
          ]
        }
      ]
    },
    {
      "cell_type": "markdown",
      "source": [
        "#3.\tDictionary Dasar"
      ],
      "metadata": {
        "id": "XC-fDQtuq9QW"
      }
    },
    {
      "cell_type": "code",
      "source": [
        "buku={\n",
        "    \"Judul\":\"Algoritma\",\n",
        "    \"Penulis\":\"Munir\",\n",
        "    \"Tahun\":\"2021\"\n",
        "}\n",
        "print(\"Judul: \",buku[\"Judul\"])\n",
        "print(\"Penulis: \",buku[\"Penulis\"])\n",
        "print(\"Tahun: \",buku[\"Tahun\"])"
      ],
      "metadata": {
        "colab": {
          "base_uri": "https://localhost:8080/"
        },
        "id": "lz9P7H24rboG",
        "outputId": "80b799c9-2616-49d1-eefc-26d6616a4199"
      },
      "execution_count": 6,
      "outputs": [
        {
          "output_type": "stream",
          "name": "stdout",
          "text": [
            "Judul:  Algoritma\n",
            "Penulis:  Munir\n",
            "Tahun:  2021\n"
          ]
        }
      ]
    },
    {
      "cell_type": "markdown",
      "source": [
        "#4.\tOperasi Dictionary"
      ],
      "metadata": {
        "id": "JimHM_5Fq-Qy"
      }
    },
    {
      "cell_type": "code",
      "source": [
        "data={\n",
        "    \"NIP\":\"12345\",\n",
        "    \"Nama\":\"Budi\",\n",
        "    \"Prodi\":\"TRK\"\n",
        "}\n",
        "data[\"Umur\"]=40\n",
        "data[\"Prodi\"]=\"Teknik Komputer\"\n",
        "del data[\"Umur\"]\n",
        "print(data)"
      ],
      "metadata": {
        "colab": {
          "base_uri": "https://localhost:8080/"
        },
        "id": "ippdobeCsc67",
        "outputId": "efddff11-085c-47d9-e371-734b65e3cbf1"
      },
      "execution_count": 7,
      "outputs": [
        {
          "output_type": "stream",
          "name": "stdout",
          "text": [
            "{'NIP': '12345', 'Nama': 'Budi', 'Prodi': 'Teknik Komputer'}\n"
          ]
        }
      ]
    },
    {
      "cell_type": "markdown",
      "source": [
        "#5.\tSet dan Himpunan"
      ],
      "metadata": {
        "id": "JG0iLnakrDuy"
      }
    },
    {
      "cell_type": "code",
      "source": [
        "A={\"Matematika\", \"Algoritma\", \"Bahasa Inggris\"}\n",
        "B={\"Algoritma\", \"Basis Data\", \"Matematika\"}\n",
        "print(\"Union:\", A|B)\n",
        "print(\"Intersection:\", A&B)\n",
        "print(\"Difference: \", A-B)"
      ],
      "metadata": {
        "colab": {
          "base_uri": "https://localhost:8080/"
        },
        "id": "P1SfeBWEuEHT",
        "outputId": "12f8bde6-34c5-4dc0-a7ad-aece8688caaf"
      },
      "execution_count": 9,
      "outputs": [
        {
          "output_type": "stream",
          "name": "stdout",
          "text": [
            "Union: {'Basis Data', 'Algoritma', 'Matematika', 'Bahasa Inggris'}\n",
            "Intersection: {'Algoritma', 'Matematika'}\n",
            "Difference:  {'Bahasa Inggris'}\n"
          ]
        }
      ]
    },
    {
      "cell_type": "markdown",
      "source": [
        "#6.\tStudi Kasus Dictionary"
      ],
      "metadata": {
        "id": "tWQsDXdbrFCt"
      }
    },
    {
      "cell_type": "code",
      "source": [
        "nilai_mhs={\"Andi\": 85, \"Budi\": 90, \"Cici\": 78}\n",
        "for nama, nilai in nilai_mhs.items():\n",
        "  print(f\"{nama}:{nilai}\")\n",
        "rata=sum(nilai_mhs.values())/len(nilai_mhs)\n",
        "print(\"Rata-rata:\",rata)"
      ],
      "metadata": {
        "colab": {
          "base_uri": "https://localhost:8080/"
        },
        "id": "2g-u_Y7YvM-P",
        "outputId": "79f6f009-fad7-454d-f55f-3c79415ffb27"
      },
      "execution_count": 13,
      "outputs": [
        {
          "output_type": "stream",
          "name": "stdout",
          "text": [
            "Andi:85\n",
            "Budi:90\n",
            "Cici:78\n",
            "Rata-rata: 84.33333333333333\n"
          ]
        }
      ]
    },
    {
      "cell_type": "markdown",
      "source": [
        "#7.\tStudi Kasus Set – Klub Mahasiswa"
      ],
      "metadata": {
        "id": "kKOtlVgqrHWD"
      }
    },
    {
      "cell_type": "code",
      "source": [
        "klub_A={\"Andi\",\"Budi\",\"Cici\"}\n",
        "klub_B={\"Cici\",\"Deni\",\"Eka\"}\n",
        "print(\"Union:\",klub_A|klub_B)\n",
        "print(\"Intersection:\",klub_A&klub_B)\n",
        "print(\"Difference:\",klub_A-klub_B)"
      ],
      "metadata": {
        "colab": {
          "base_uri": "https://localhost:8080/"
        },
        "id": "zlnC3kZ2xpqS",
        "outputId": "0bc5b5a0-db97-4c6d-9a27-215eaece35ae"
      },
      "execution_count": 14,
      "outputs": [
        {
          "output_type": "stream",
          "name": "stdout",
          "text": [
            "Union: {'Budi', 'Eka', 'Andi', 'Cici', 'Deni'}\n",
            "Intersection: {'Cici'}\n",
            "Difference: {'Budi', 'Andi'}\n"
          ]
        }
      ]
    }
  ]
}